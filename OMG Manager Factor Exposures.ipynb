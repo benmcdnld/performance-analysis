{
 "cells": [
  {
   "cell_type": "code",
   "execution_count": 1,
   "metadata": {},
   "outputs": [],
   "source": [
    "import numpy as np\n",
    "import pandas as pd\n",
    "import statsmodels.api as sm\n",
    "import factors\n",
    "from sklearn.linear_model import LinearRegression"
   ]
  },
  {
   "cell_type": "code",
   "execution_count": 5,
   "metadata": {},
   "outputs": [],
   "source": [
    "def getmacros():\n",
    "    '''\n",
    "    Returns a dataframe of excess returns from macro factors\n",
    "    '''\n",
    "    xls_file = r'C:\\Users\\bmcdonald\\Desktop\\MSCI Factors.xlsm'\n",
    "    xls = pd.ExcelFile(xls_file)\n",
    "    macros = xls.parse('AssetClass', index_col=0, header=None, skiprows=1,\n",
    "                       names='MKT INT CRD HY CUR RF'.split())\n",
    "    macros['CRD'] = 0.5*macros.CRD + 0.5*macros.HY\n",
    "    macros.drop('HY', axis=1, inplace=True)\n",
    "    macros['RF'] = macros['RF'] / 12  #3m treasuries are annualized, so this converts to monthly\n",
    "    macros.index = pd.to_datetime(macros.index).strftime('%Y-%m')\n",
    "    macros = factors.isolate_credit(macros)\n",
    "    macros.dropna(inplace=True)\n",
    "    return macros"
   ]
  },
  {
   "cell_type": "code",
   "execution_count": 2,
   "metadata": {},
   "outputs": [],
   "source": [
    "def macro_prep(return_series, macros, start=None, end=None):\n",
    "    \n",
    "    returns = pd.DataFrame(return_series)\n",
    "\n",
    "    # Opens macro factors, concats return series, subs rf, drops rf\n",
    "\n",
    "    df = pd.concat([macros, returns], axis=1, sort=False)\n",
    "    df.iloc[:,-1] = df.iloc[:,-1] - df.RF\n",
    "    \n",
    "    # Adjust Date range here if applicable\n",
    "    df = df.loc[start:end]\n",
    "    df.dropna(inplace=True)\n",
    "    \n",
    "    ex_macros = df.drop('RF', axis=1)\n",
    "\n",
    "\n",
    "\n",
    "    # Creates separate df for excess returns\n",
    "    ex_returns = ex_macros.iloc[:, -1]\n",
    "    ex_returns = pd.DataFrame(ex_returns)\n",
    "    assert ex_returns.shape[0] > 0, 'Manager returns df is empty'\n",
    "\n",
    "    ex_macros = ex_macros.iloc[:, :4]\n",
    "    assert ex_macros.shape[0] > 0, 'Macro returns df is empty'\n",
    "\n",
    "    return ex_returns, ex_macros\n",
    "    \n",
    "    "
   ]
  },
  {
   "cell_type": "code",
   "execution_count": 3,
   "metadata": {},
   "outputs": [],
   "source": [
    "xls_file = r'C:\\Users\\bmcdonald\\Desktop\\OMG Manager Returns.xlsx'\n",
    "xls = pd.ExcelFile(xls_file)\n"
   ]
  },
  {
   "cell_type": "code",
   "execution_count": 8,
   "metadata": {},
   "outputs": [],
   "source": [
    "import datetime\n",
    "today = datetime.date.today()\n",
    "first = today.replace(day=1)\n",
    "lastMonth = first - datetime.timedelta(days=1)\n",
    "date = lastMonth.strftime(\"%Y-%m\")\n",
    "\n",
    "beta_df = pd.DataFrame(columns=['MKT INT CRD CUR'.split()])\n",
    "macros = getmacros()\n",
    "\n",
    "excess_returns_df = pd.DataFrame()\n",
    "predict_df = pd.DataFrame()\n",
    "error_df = pd.DataFrame()\n",
    "\n",
    "ols = LinearRegression()\n",
    "\n",
    "for category in 'Index Fund Alt'.split():\n",
    "    \n",
    "    cat = xls.parse(category, index_col=0, skiprows=1)\n",
    "    cat.index = pd.to_datetime(cat.index).strftime('%Y-%m')\n",
    "    name = cat.columns\n",
    "    \n",
    "    start = cat.index[120]\n",
    "    \n",
    "    betas = []\n",
    "    \n",
    "    for n in name:\n",
    "        # Uses factorprep to calc excess manager and factor returns\n",
    "        ex_returns, ex_macros = macro_prep(cat[n], macros, start)\n",
    "        \n",
    "        model = ols.fit(ex_macros.values,\n",
    "                        ex_returns.values)\n",
    "        \n",
    "        beta = model.coef_.flatten()\n",
    "        betas.append(beta)\n",
    "        \n",
    "        errors = ex_returns - model.predict(ex_macros)\n",
    "        predictions = ex_returns - errors \n",
    "        \n",
    "        excess_returns_df = pd.concat([excess_returns_df, ex_returns], axis=1, sort=False)\n",
    "        predict_df = pd.concat([predict_df, predictions], axis=1, sort=False)\n",
    "        error_df = pd.concat([error_df, errors], axis=1, sort=False)\n",
    "        \n",
    "\n",
    "    df = pd.DataFrame(np.stack(betas), columns=['MKT INT CRD CUR'.split()], index=name)\n",
    "\n",
    "    beta_df = pd.concat([beta_df, df], sort=False)\n",
    "    \n",
    "beta_df.to_excel(f'{date} - TEST Macro Betas.xlsx')\n",
    "\n",
    "\n",
    "excess_returns_df.sort_index(inplace=True)\n",
    "predict_df.sort_index(inplace=True)\n",
    "error_df.sort_index(inplace=True)\n",
    "\n",
    "excess_returns_df.to_excel(f'{date} - TEST Excess Returns.xlsx')\n",
    "predict_df.to_excel(f'{date} - TEST Model Predictions.xlsx')\n",
    "error_df.to_excel(f'{date} - TEST Errors.xlsx')\n",
    "#error_df.corr().to_excel(f'{date} - TEST Macro Error Correlation.xlsx')"
   ]
  },
  {
   "cell_type": "markdown",
   "metadata": {},
   "source": [
    "## This section is going to estimate past betas to analyze what return predicted returns would be to compare with actual returns"
   ]
  },
  {
   "cell_type": "code",
   "execution_count": 51,
   "metadata": {},
   "outputs": [],
   "source": [
    "xls_file = r'C:\\Users\\bmcdonald\\Desktop\\OMG Manager Returns.xlsx'\n",
    "xls = pd.ExcelFile(xls_file)\n",
    "\n",
    "\n",
    "returns = xls.parse('Index', index_col=0, skiprows=1)\n",
    "returns.index = pd.to_datetime(returns.index).strftime('%Y-%m')\n",
    "\n",
    "funds = xls.parse('Fund', index_col=0, skiprows=1)\n",
    "funds.index = pd.to_datetime(funds.index).strftime('%Y-%m')\n",
    "\n",
    "returns = pd.concat([returns, funds], axis=1)\n",
    "returns = returns.iloc[:,:-4]\n",
    "\n",
    "dates = returns.index\n",
    "names = returns.columns\n",
    "\n",
    "macros = getmacros()\n",
    "\n",
    "date_i = np.flip(np.arange(1,61))"
   ]
  },
  {
   "cell_type": "code",
   "execution_count": 42,
   "metadata": {},
   "outputs": [],
   "source": [
    "pred_returns_df = pd.DataFrame(columns=names)\n",
    "\n",
    "for end_date_i in date_i:\n",
    "    \n",
    "    start_date_i = end_date_i + 120\n",
    "    returns_10y = returns.iloc[end_date_i:start_date_i] #Dates are in descending order\n",
    "    \n",
    "    macros_tplus1 = macros.loc[dates[end_date_i-1]]\n",
    "    \n",
    "    pred_returns=[]\n",
    "    \n",
    "    \n",
    "    for name in names:\n",
    "        \n",
    "        ex_returns, ex_macros = macro_prep(returns[name], macros)\n",
    "        \n",
    "        model = ols.fit(ex_macros.values,\n",
    "                        ex_returns.values)\n",
    "        \n",
    "        beta = model.coef_.flatten()\n",
    "        \n",
    "        pred_returns.append(beta[0] * macros_tplus1[0] +\n",
    "                            beta[1] * macros_tplus1[1] +\n",
    "                            beta[2] * macros_tplus1[2] +\n",
    "                            beta[3] * macros_tplus1[3])\n",
    "    \n",
    "    pred_returns_df.loc[dates[end_date_i - 1]] = pred_returns"
   ]
  },
  {
   "cell_type": "code",
   "execution_count": 52,
   "metadata": {},
   "outputs": [],
   "source": [
    "returns = returns.loc[:'2015-11'][::-1]\n",
    "\n",
    "forecasting_errors = returns - pred_returns_df"
   ]
  },
  {
   "cell_type": "code",
   "execution_count": 55,
   "metadata": {},
   "outputs": [],
   "source": [
    "pred_returns_df.to_excel(\"2020-10 - Forward Looking Return Estimates.xlsx\")\n",
    "forecasting_errors.to_excel(\"2020-10 - Forward Looking Return Errors.xlsx\")"
   ]
  },
  {
   "cell_type": "code",
   "execution_count": null,
   "metadata": {},
   "outputs": [],
   "source": []
  }
 ],
 "metadata": {
  "kernelspec": {
   "display_name": "Python 3",
   "language": "python",
   "name": "python3"
  },
  "language_info": {
   "codemirror_mode": {
    "name": "ipython",
    "version": 3
   },
   "file_extension": ".py",
   "mimetype": "text/x-python",
   "name": "python",
   "nbconvert_exporter": "python",
   "pygments_lexer": "ipython3",
   "version": "3.7.4"
  }
 },
 "nbformat": 4,
 "nbformat_minor": 2
}
