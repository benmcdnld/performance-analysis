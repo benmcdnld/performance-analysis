{
 "cells": [
  {
   "cell_type": "code",
   "execution_count": 1,
   "metadata": {},
   "outputs": [],
   "source": [
    "import numpy as np\n",
    "import pandas as pd\n",
    "import matplotlib.pyplot as plt\n",
    "import seaborn as sns\n",
    "import statsmodels.api as sm\n",
    "\n",
    "import factors"
   ]
  },
  {
   "cell_type": "code",
   "execution_count": 2,
   "metadata": {},
   "outputs": [],
   "source": [
    "def plot_macro_rolling(manager_returns, macro_returns, rolling=120, savefig=False):\n",
    "    \n",
    "    stats = []\n",
    "    dates = []\n",
    "\n",
    "    for i in np.arange(manager_returns.shape[0] - rolling + 1):\n",
    "\n",
    "        manager_returns_rolling = manager_returns.iloc[i : rolling + i]\n",
    "        macro_returns_rolling = macro_returns.iloc[i : rolling + i]\n",
    "\n",
    "        date = manager_returns_rolling.index[-1]\n",
    "\n",
    "        macro_returns_rolling = sm.tools.add_constant(macro_returns_rolling)\n",
    "        model = sm.OLS(manager_returns_rolling, macro_returns_rolling).fit(cov_type='HAC', cov_kwds={'maxlags':12})\n",
    "\n",
    "        summary = model.summary2(xname='Alpha MKT INT CRD CUR'.split()).tables[1]\n",
    "\n",
    "        mkt = [summary.iloc[1][0], summary.iloc[1][0] + summary.iloc[1][1], summary.iloc[1][0] - summary.iloc[1][1]]\n",
    "        intr = [summary.iloc[2][0], summary.iloc[2][0] + summary.iloc[2][1], summary.iloc[2][0] - summary.iloc[2][1]]\n",
    "        crd = [summary.iloc[3][0], summary.iloc[3][0] + summary.iloc[3][1], summary.iloc[3][0] - summary.iloc[3][1]]\n",
    "        cur = [summary.iloc[4][0], summary.iloc[4][0] + summary.iloc[4][1], summary.iloc[4][0] - summary.iloc[4][1]]\n",
    "\n",
    "\n",
    "        stats.append([mkt, intr, crd, cur])\n",
    "        dates.append(date)\n",
    "\n",
    "\n",
    "\n",
    "    fig, ((ax1, ax2),(ax3, ax4)) = plt.subplots(2,2)\n",
    "    fig.set_size_inches(15, 9)\n",
    "\n",
    "    ax1.plot(dates, [date[0][0] for date in stats], color='black')\n",
    "    ax1.plot(dates, [date[0][1] for date in stats], color='black', linestyle='--')\n",
    "    ax1.plot(dates, [date[0][2] for date in stats], color='black', linestyle='--')\n",
    "\n",
    "    ax1.set_xticks(np.arange(0, len(dates), 24))\n",
    "    ax1.set_title('Market Beta')\n",
    "\n",
    "\n",
    "    ax2.plot(dates, [date[1][0] for date in stats], color='black')\n",
    "    ax2.plot(dates, [date[1][1] for date in stats], color='black', linestyle='--')\n",
    "    ax2.plot(dates, [date[1][2] for date in stats], color='black', linestyle='--')\n",
    "\n",
    "    ax2.set_xticks(np.arange(0, len(dates), 24))\n",
    "    ax2.set_title('Interest Rate Beta')\n",
    "\n",
    "\n",
    "    ax3.plot(dates, [date[2][0] for date in stats], color='black')\n",
    "    ax3.plot(dates, [date[2][1] for date in stats], color='black', linestyle='--')\n",
    "    ax3.plot(dates, [date[2][2] for date in stats], color='black', linestyle='--')\n",
    "\n",
    "    ax3.set_xticks(np.arange(0, len(dates), 24))\n",
    "    ax3.set_title('Credit Beta')\n",
    "\n",
    "\n",
    "    ax4.plot(dates, [date[3][0] for date in stats], color='black')\n",
    "    ax4.plot(dates, [date[3][1] for date in stats], color='black', linestyle='--')\n",
    "    ax4.plot(dates, [date[3][2] for date in stats], color='black', linestyle='--')\n",
    "\n",
    "    ax4.set_xticks(np.arange(0, len(dates), 24))\n",
    "    ax4.set_title('Currency Beta')\n",
    "\n",
    "\n",
    "\n",
    "    fig.tight_layout()\n",
    "    \n",
    "    manager_name = manager_returns.columns[0]\n",
    "    \n",
    "    if savefig:\n",
    "        plt.savefig(f'{manager_name} Macro Factors')\n",
    "\n",
    "    plt.show()"
   ]
  },
  {
   "cell_type": "markdown",
   "metadata": {},
   "source": [
    "### The purpose of this notebook is to determine relationships of various investment strategies to macro factors, namely market, interest rate, credit, and commodity risk."
   ]
  },
  {
   "cell_type": "code",
   "execution_count": 2,
   "metadata": {},
   "outputs": [],
   "source": [
    "# Input csv file name located on Desktop and the name of the manager\n",
    "manager_file = 'xgb.csv'\n",
    "\n",
    "manager_name = 'XGB'"
   ]
  },
  {
   "cell_type": "code",
   "execution_count": 4,
   "metadata": {
    "scrolled": false
   },
   "outputs": [
    {
     "name": "stdout",
     "output_type": "stream",
     "text": [
      "Factor exposures from 2010-11 to 2020-10\n"
     ]
    },
    {
     "data": {
      "text/html": [
       "<table class=\"simpletable\">\n",
       "<tr>\n",
       "        <td>Model:</td>               <td>OLS</td>         <td>Adj. R-squared:</td>     <td>0.741</td> \n",
       "</tr>\n",
       "<tr>\n",
       "  <td>Dependent Variable:</td>        <td>XGB</td>              <td>AIC:</td>         <td>221.8777</td>\n",
       "</tr>\n",
       "<tr>\n",
       "         <td>Date:</td>        <td>2020-11-23 15:30</td>        <td>BIC:</td>         <td>235.8152</td>\n",
       "</tr>\n",
       "<tr>\n",
       "   <td>No. Observations:</td>         <td>120</td>         <td>Log-Likelihood:</td>    <td>-105.94</td>\n",
       "</tr>\n",
       "<tr>\n",
       "       <td>Df Model:</td>              <td>4</td>           <td>F-statistic:</td>       <td>54.77</td> \n",
       "</tr>\n",
       "<tr>\n",
       "     <td>Df Residuals:</td>           <td>115</td>       <td>Prob (F-statistic):</td> <td>9.04e-26</td>\n",
       "</tr>\n",
       "<tr>\n",
       "      <td>R-squared:</td>            <td>0.750</td>            <td>Scale:</td>         <td>0.35712</td>\n",
       "</tr>\n",
       "</table>\n",
       "<table class=\"simpletable\">\n",
       "<tr>\n",
       "        <td></td>         <th>Coef.</th>  <th>Std.Err.</th>    <th>z</th>     <th>P>|z|</th> <th>[0.025</th>  <th>0.975]</th> \n",
       "</tr>\n",
       "<tr>\n",
       "  <th>Alpha</th>         <td>-0.1030</td>  <td>0.0486</td>  <td>-2.1193</td> <td>0.0341</td> <td>-0.1983</td> <td>-0.0077</td>\n",
       "</tr>\n",
       "<tr>\n",
       "  <th>Market</th>        <td>0.1776</td>   <td>0.0231</td>  <td>7.6820</td>  <td>0.0000</td> <td>0.1323</td>  <td>0.2229</td> \n",
       "</tr>\n",
       "<tr>\n",
       "  <th>Interest Rate</th> <td>0.6263</td>   <td>0.0455</td>  <td>13.7510</td> <td>0.0000</td> <td>0.5370</td>  <td>0.7155</td> \n",
       "</tr>\n",
       "<tr>\n",
       "  <th>Credit</th>        <td>0.2073</td>   <td>0.0324</td>  <td>6.4052</td>  <td>0.0000</td> <td>0.1439</td>  <td>0.2708</td> \n",
       "</tr>\n",
       "<tr>\n",
       "  <th>Currency</th>      <td>0.2326</td>   <td>0.0311</td>  <td>7.4765</td>  <td>0.0000</td> <td>0.1716</td>  <td>0.2936</td> \n",
       "</tr>\n",
       "</table>\n",
       "<table class=\"simpletable\">\n",
       "<tr>\n",
       "     <td>Omnibus:</td>    <td>6.474</td>  <td>Durbin-Watson:</td>   <td>2.550</td>\n",
       "</tr>\n",
       "<tr>\n",
       "  <td>Prob(Omnibus):</td> <td>0.039</td> <td>Jarque-Bera (JB):</td> <td>6.897</td>\n",
       "</tr>\n",
       "<tr>\n",
       "       <td>Skew:</td>     <td>0.370</td>     <td>Prob(JB):</td>     <td>0.032</td>\n",
       "</tr>\n",
       "<tr>\n",
       "     <td>Kurtosis:</td>   <td>3.912</td>  <td>Condition No.:</td>     <td>5</td>  \n",
       "</tr>\n",
       "</table>"
      ],
      "text/plain": [
       "<class 'statsmodels.iolib.summary2.Summary'>\n",
       "\"\"\"\n",
       "                 Results: Ordinary least squares\n",
       "=================================================================\n",
       "Model:              OLS              Adj. R-squared:     0.741   \n",
       "Dependent Variable: XGB              AIC:                221.8777\n",
       "Date:               2020-11-23 15:30 BIC:                235.8152\n",
       "No. Observations:   120              Log-Likelihood:     -105.94 \n",
       "Df Model:           4                F-statistic:        54.77   \n",
       "Df Residuals:       115              Prob (F-statistic): 9.04e-26\n",
       "R-squared:          0.750            Scale:              0.35712 \n",
       "-----------------------------------------------------------------\n",
       "                   Coef.  Std.Err.    z    P>|z|   [0.025  0.975]\n",
       "-----------------------------------------------------------------\n",
       "Alpha             -0.1030   0.0486 -2.1193 0.0341 -0.1983 -0.0077\n",
       "Market             0.1776   0.0231  7.6820 0.0000  0.1323  0.2229\n",
       "Interest Rate      0.6263   0.0455 13.7510 0.0000  0.5370  0.7155\n",
       "Credit             0.2073   0.0324  6.4052 0.0000  0.1439  0.2708\n",
       "Currency           0.2326   0.0311  7.4765 0.0000  0.1716  0.2936\n",
       "-----------------------------------------------------------------\n",
       "Omnibus:              6.474        Durbin-Watson:           2.550\n",
       "Prob(Omnibus):        0.039        Jarque-Bera (JB):        6.897\n",
       "Skew:                 0.370        Prob(JB):                0.032\n",
       "Kurtosis:             3.912        Condition No.:           5    \n",
       "=================================================================\n",
       "\n",
       "\"\"\""
      ]
     },
     "execution_count": 4,
     "metadata": {},
     "output_type": "execute_result"
    }
   ],
   "source": [
    "model, summary, start, end = factors.macroOLS(manager_file, start='2010-11')\n",
    "\n",
    "#factors.exportfactors(summary, manager_name, start, end)\n",
    "\n",
    "summary"
   ]
  },
  {
   "cell_type": "code",
   "execution_count": null,
   "metadata": {
    "scrolled": false
   },
   "outputs": [],
   "source": [
    "rets, macs = factors.macroprep(manager_file)\n",
    "plot_macro_rolling(rets, macs, savefig=False)"
   ]
  },
  {
   "cell_type": "markdown",
   "metadata": {},
   "source": [
    "### We want to examine whether making or not making credit/comodity adjustments provides us with the best prediction of next month's return, as well as which ones give us the least correlated errors"
   ]
  },
  {
   "cell_type": "code",
   "execution_count": 3,
   "metadata": {},
   "outputs": [],
   "source": [
    "def macro_predict(manager_returns, macro_returns, rolling=120, showfig = False, savefig=False):\n",
    "    \n",
    "    prediction_errors = []\n",
    "    dates = []\n",
    "    rolling = 120\n",
    "\n",
    "    for i in np.arange(manager_returns.shape[0] - rolling):\n",
    "\n",
    "        manager_returns_rolling = manager_returns.iloc[i : rolling + i]\n",
    "        macro_returns_rolling = macro_returns.iloc[i : rolling + i]\n",
    "\n",
    "        date = manager_returns_rolling.index[-1]\n",
    "\n",
    "        macro_returns_rolling = sm.tools.add_constant(macro_returns_rolling)\n",
    "        model = sm.OLS(manager_returns_rolling, macro_returns_rolling).fit(cov_type='HAC', cov_kwds={'maxlags':12})\n",
    "\n",
    "        summary = model.summary2(xname='Alpha MKT INT CRD CUR'.split()).tables[1]\n",
    "\n",
    "        mkt = summary.iloc[1][0] * macro_returns.iloc[rolling + i, 0]\n",
    "        intr = summary.iloc[2][0] * macro_returns.iloc[rolling + i, 1]\n",
    "        crd = summary.iloc[3][0] * macro_returns.iloc[rolling + i, 2]\n",
    "        cur = summary.iloc[4][0] * macro_returns.iloc[rolling + i, 3]\n",
    "\n",
    "        prediction = mkt + intr + crd + cur\n",
    "        actual = manager_returns.iloc[rolling + i, 0]\n",
    "\n",
    "\n",
    "        prediction_errors.append(prediction - actual)\n",
    "        dates.append(date)\n",
    "    \n",
    "    mae = np.average(np.abs(prediction_errors))\n",
    "    rmse = np.sqrt(np.average(np.power(prediction_errors,2)))\n",
    "    \n",
    "    print(f'Since {manager_returns.index[0]}')\n",
    "    print(f'MAE: {mae}')\n",
    "    print(f'RMSE: {rmse}')\n",
    "    print(f'Max Error: {np.max(np.abs(prediction_errors))}')\n",
    "    \n",
    "    if showfig:\n",
    "        fig, ax = plt.subplots()\n",
    "        fig.set_size_inches(10, 5)\n",
    "\n",
    "        ax.plot(dates, prediction_errors, color='black')\n",
    "\n",
    "        ax.set_xticks(np.arange(0, len(dates), 24))\n",
    "\n",
    "        manager_name = manager_returns.columns[0]\n",
    "\n",
    "        ax.set_title(f'{manager_name} Macro Prediction Errors')\n",
    "\n",
    "\n",
    "        fig.tight_layout()\n",
    "\n",
    "\n",
    "        if savefig:\n",
    "            plt.savefig(f'{manager_name} Macro Prediction Errors')\n",
    "\n",
    "        plt.show()\n",
    "\n",
    "\n",
    "    return prediction_errors\n"
   ]
  },
  {
   "cell_type": "code",
   "execution_count": null,
   "metadata": {},
   "outputs": [],
   "source": [
    "# Input csv file name located on Desktop and the name of the manager\n",
    "manager_file = 'msci.csv'\n",
    "\n",
    "manager_name = ''"
   ]
  },
  {
   "cell_type": "code",
   "execution_count": null,
   "metadata": {},
   "outputs": [],
   "source": [
    "rets, macs = factors.macroprep(manager_file)"
   ]
  },
  {
   "cell_type": "code",
   "execution_count": null,
   "metadata": {
    "scrolled": true
   },
   "outputs": [],
   "source": [
    "predictions = macro_predict(rets, macs)"
   ]
  },
  {
   "cell_type": "code",
   "execution_count": null,
   "metadata": {},
   "outputs": [],
   "source": [
    "macs.to_excel('Macro Returns Since 1993.xlsx')"
   ]
  },
  {
   "cell_type": "markdown",
   "metadata": {},
   "source": [
    "### We now want to see how correlated errors are between different strategies. This will help us understand relationships when it comes to stress testing."
   ]
  },
  {
   "cell_type": "code",
   "execution_count": 4,
   "metadata": {},
   "outputs": [],
   "source": [
    "def macro_errors(manager_returns, macro_returns, rolling=120):\n",
    "    \n",
    "    prediction_errors = []\n",
    "    dates = []\n",
    "    rolling = 120\n",
    "\n",
    "    for i in np.arange(manager_returns.shape[0] - rolling):\n",
    "\n",
    "        manager_returns_rolling = manager_returns.iloc[i : rolling + i]\n",
    "        macro_returns_rolling = macro_returns.iloc[i : rolling + i]\n",
    "\n",
    "        date = manager_returns_rolling.index[-1]\n",
    "\n",
    "        macro_returns_rolling = sm.tools.add_constant(macro_returns_rolling)\n",
    "        model = sm.OLS(manager_returns_rolling, macro_returns_rolling).fit(cov_type='HAC', cov_kwds={'maxlags':12})\n",
    "\n",
    "        summary = model.summary2(xname='Alpha MKT INT CRD CUR'.split()).tables[1]\n",
    "\n",
    "        mkt = summary.iloc[1][0] * macro_returns.iloc[rolling + i, 0]\n",
    "        intr = summary.iloc[2][0] * macro_returns.iloc[rolling + i, 1]\n",
    "        crd = summary.iloc[3][0] * macro_returns.iloc[rolling + i, 2]\n",
    "        cur = summary.iloc[4][0] * macro_returns.iloc[rolling + i, 3]\n",
    "\n",
    "        prediction = mkt + intr + crd + cur\n",
    "        actual = manager_returns.iloc[rolling + i, 0]\n",
    "\n",
    "\n",
    "        prediction_errors.append(prediction - actual)\n",
    "        dates.append(date)\n",
    "        \n",
    "    return prediction_errors"
   ]
  },
  {
   "cell_type": "code",
   "execution_count": null,
   "metadata": {},
   "outputs": [],
   "source": [
    "# Input csv file name located on Desktop and the name of the manager\n",
    "manager_file = 'tsx.csv'\n",
    "\n",
    "rets, macs = factors.macroprep(manager_file, start='2001-09')\n",
    "\n",
    "tsx_errors = macro_errors(rets, macs)"
   ]
  },
  {
   "cell_type": "code",
   "execution_count": null,
   "metadata": {},
   "outputs": [],
   "source": [
    "# Input csv file name located on Desktop and the name of the manager\n",
    "manager_file = 'msci.csv'\n",
    "\n",
    "rets, macs = factors.macroprep(manager_file, start='2001-09')\n",
    "\n",
    "msci_errors = macro_errors(rets, macs)"
   ]
  },
  {
   "cell_type": "code",
   "execution_count": null,
   "metadata": {},
   "outputs": [],
   "source": [
    "# Input csv file name located on Desktop and the name of the manager\n",
    "manager_file = 'xbb.csv'\n",
    "\n",
    "rets, macs = factors.macroprep(manager_file, start='2001-09')\n",
    "\n",
    "xbb_errors = macro_errors(rets, macs)"
   ]
  },
  {
   "cell_type": "code",
   "execution_count": null,
   "metadata": {},
   "outputs": [],
   "source": [
    "np.corrcoef([tsx_errors, msci_errors, xbb_errors])\n",
    "\n",
    "    "
   ]
  },
  {
   "cell_type": "code",
   "execution_count": null,
   "metadata": {},
   "outputs": [],
   "source": []
  }
 ],
 "metadata": {
  "kernelspec": {
   "display_name": "Python 3",
   "language": "python",
   "name": "python3"
  },
  "language_info": {
   "codemirror_mode": {
    "name": "ipython",
    "version": 3
   },
   "file_extension": ".py",
   "mimetype": "text/x-python",
   "name": "python",
   "nbconvert_exporter": "python",
   "pygments_lexer": "ipython3",
   "version": "3.7.4"
  }
 },
 "nbformat": 4,
 "nbformat_minor": 2
}
