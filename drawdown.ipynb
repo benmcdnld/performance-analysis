{
 "cells": [
  {
   "cell_type": "code",
   "execution_count": null,
   "metadata": {},
   "outputs": [],
   "source": [
    "import numpy as np\n",
    "import pandas as pd"
   ]
  },
  {
   "cell_type": "code",
   "execution_count": null,
   "metadata": {},
   "outputs": [],
   "source": [
    "def trindex(returns, startingvalue=1):\n",
    "    '''\n",
    "    Takes a series of returns (%) and a starting value (default=1) and returns\n",
    "    a series of index values \n",
    "    '''\n",
    "    ln_returns = [x/100+1 for x in returns]\n",
    "    \n",
    "    price = []\n",
    "    p = startingvalue\n",
    "\n",
    "    for r in ln_returns:                    #calculate price of asset over time\n",
    "        p = p * r\n",
    "        price.append(p)\n",
    "        \n",
    "    return price"
   ]
  },
  {
   "cell_type": "code",
   "execution_count": null,
   "metadata": {},
   "outputs": [],
   "source": [
    "def maxdd(date, returns):\n",
    "    '''\n",
    "    Takes a list of dates and a list of total return index values as inputs\n",
    "    and returns a dataframe that contains the top drawdowns, along with \n",
    "    the start date, trough date, length of time from peak to trough 'DURATION',\n",
    "    and the length of time it took to recover 'RECOVERY'\n",
    "    '''\n",
    "    \n",
    "    price = trindex(returns)\n",
    "\n",
    "    RESULTS = []\n",
    "\n",
    "    for i in range(len(price)-1):\n",
    "\n",
    "        if price[i] > price[i+1]:                #Finds peak index\n",
    "\n",
    "            try:\n",
    "                newpeak = [n for n, p in enumerate(price[i+1:]) if p>=price[i]][0]  #Looks for newpeak\n",
    "            except IndexError:\n",
    "                newpeak = len(price[i+1:])\n",
    "\n",
    "            trough = min(price[i:(i+newpeak)])                              #Finds trough date\n",
    "            troughi = price[i:newpeak+i].index(min(price[i:newpeak+i]))     #Finds trough index\n",
    "\n",
    "            DD = round(((trough - price[i]) / price[i])*100, 2)           #Calculates DD from peak\n",
    "\n",
    "            Peak = date[i]\n",
    "\n",
    "            Trough = date[i+troughi]\n",
    "\n",
    "            Duration = round((troughi/12), 2)\n",
    "\n",
    "            Recovery = round((newpeak - troughi)/12, 2) if price[i] > price[i+newpeak] else None\n",
    "\n",
    "            RESULTS.append([Peak,Trough,DD,Duration,Recovery])\n",
    "\n",
    "    RESULTS = sorted(RESULTS, key=lambda x: x[2])        #Sorts results by DD\n",
    "\n",
    "    TOPDD = []\n",
    "\n",
    "    for d in RESULTS:                                   #Iterates through drawdown list to find\n",
    "        if not any(d[1] in t for t in TOPDD):           #the largest DD at each unique trough date\n",
    "            TOPDD.append(d)\n",
    "\n",
    "\n",
    "    return pd.DataFrame(np.array(TOPDD),\n",
    "                         columns=['PEAK','TROUGH','DRAWDOWN','DURATION','RECOVERY']).head(25) #Creates a DataFrame of results"
   ]
  },
  {
   "cell_type": "code",
   "execution_count": null,
   "metadata": {},
   "outputs": [],
   "source": []
  }
 ],
 "metadata": {
  "kernelspec": {
   "display_name": "Python 3",
   "language": "python",
   "name": "python3"
  },
  "language_info": {
   "codemirror_mode": {
    "name": "ipython",
    "version": 3
   },
   "file_extension": ".py",
   "mimetype": "text/x-python",
   "name": "python",
   "nbconvert_exporter": "python",
   "pygments_lexer": "ipython3",
   "version": "3.7.4"
  }
 },
 "nbformat": 4,
 "nbformat_minor": 2
}
