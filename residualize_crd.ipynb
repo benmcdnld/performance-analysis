{
 "cells": [
  {
   "cell_type": "code",
   "execution_count": 1,
   "metadata": {},
   "outputs": [],
   "source": [
    "import numpy as np\n",
    "import pandas as pd\n",
    "from sklearn.linear_model import LinearRegression\n",
    "import DatastreamDSWS as dsws\n",
    "ds=dsws.Datastream(username='ben.mcdonald@omg.ca',password='Uuddlrlrba55')"
   ]
  },
  {
   "cell_type": "code",
   "execution_count": 113,
   "metadata": {},
   "outputs": [],
   "source": [
    "daily_data = ds.get_data(tickers='MSACWFL(MSRI), MLUS710(RI), MLCORML(RI), MLHMACL(RI)',\n",
    "                         fields=['PCH#(X,-1D)'], start='2002-01-01', end='0D', freq='D')\n",
    "daily_data.index = pd.to_datetime(data.index)"
   ]
  },
  {
   "cell_type": "code",
   "execution_count": 115,
   "metadata": {},
   "outputs": [],
   "source": [
    "monthly_data = ds.get_data(tickers='MSACWFL(MSRI), MLUS710(RI), MLCORML(RI), MLHMACL(RI), MSERCAD, MLCR1CL(RI)',\n",
    "                           fields=['PCH#(X,-1M)'], start='2002-01-31', end='0D', freq='M')\n",
    "monthly_data.index = pd.to_datetime(monthly_data.index)"
   ]
  },
  {
   "cell_type": "code",
   "execution_count": 116,
   "metadata": {},
   "outputs": [],
   "source": [
    "MKT = daily_data.iloc[:,0]\n",
    "INT = daily_data.iloc[:,1]\n",
    "CRD = 0.5 * daily_data.iloc[:,2] + 0.5 * daily_data.iloc[:,3]"
   ]
  },
  {
   "cell_type": "code",
   "execution_count": 117,
   "metadata": {},
   "outputs": [],
   "source": [
    "rolling_months = 36\n",
    "month_end_dates = []\n",
    "for d in monthly_data.index:\n",
    "    \n",
    "    while d not in daily_data.index:\n",
    "        d - pd.Timedelta(days=1)\n",
    "        \n",
    "    month_end_dates.append(d)"
   ]
  },
  {
   "cell_type": "code",
   "execution_count": 118,
   "metadata": {},
   "outputs": [],
   "source": [
    "wls = LinearRegression()\n",
    "halflife = 260\n",
    "betas = []\n",
    "\n",
    "for i in range(len(month_end_dates)-rolling_months):\n",
    "    \n",
    "    start_date = month_end_dates[i]\n",
    "    end_date = month_end_dates[i+rolling_months-1]\n",
    "    rolling_days = data.loc[start_date : end_date].shape[0]\n",
    "    \n",
    "    beta = wls.fit(pd.concat([MKT, INT], axis=1).loc[start_date:end_date],\n",
    "                   CRD.loc[start_date : end_date],\n",
    "                   sample_weight = [(0.5 ** (1 / halflife)) ** i for i in range(rolling_days)][::-1]).coef_\n",
    "    \n",
    "    betas.append(beta)\n",
    "    \n",
    "betas = np.array(betas)"
   ]
  },
  {
   "cell_type": "code",
   "execution_count": 119,
   "metadata": {},
   "outputs": [],
   "source": [
    "monthly_data = monthly_data.iloc[rolling_months:]\n",
    "MKT = monthly_data.iloc[:,0]\n",
    "INT = monthly_data.iloc[:,1]\n",
    "CRD = 0.5 * monthly_data.iloc[:,2] + 0.5 * monthly_data.iloc[:,3]\n",
    "CUR = monthly_data.iloc[:,4]\n",
    "RF = monthly_data.iloc[:,5]"
   ]
  },
  {
   "cell_type": "code",
   "execution_count": 120,
   "metadata": {},
   "outputs": [],
   "source": [
    "mkt_crd_betas = [b[0] for b in betas]\n",
    "int_crd_betas = [b[1] for b in betas]"
   ]
  },
  {
   "cell_type": "code",
   "execution_count": 123,
   "metadata": {},
   "outputs": [],
   "source": [
    "CRD = CRD - MKT * mkt_crd_betas - INT * int_crd_betas"
   ]
  },
  {
   "cell_type": "code",
   "execution_count": 130,
   "metadata": {},
   "outputs": [],
   "source": [
    "monthly_data = pd.concat([MKT, INT, CRD, CUR, RF], axis=1)\n",
    "monthly_data.columns = 'MKT INT CRD CUR RF'.split()"
   ]
  },
  {
   "cell_type": "code",
   "execution_count": 131,
   "metadata": {},
   "outputs": [
    {
     "data": {
      "text/html": [
       "<div>\n",
       "<style scoped>\n",
       "    .dataframe tbody tr th:only-of-type {\n",
       "        vertical-align: middle;\n",
       "    }\n",
       "\n",
       "    .dataframe tbody tr th {\n",
       "        vertical-align: top;\n",
       "    }\n",
       "\n",
       "    .dataframe thead th {\n",
       "        text-align: right;\n",
       "    }\n",
       "</style>\n",
       "<table border=\"1\" class=\"dataframe\">\n",
       "  <thead>\n",
       "    <tr style=\"text-align: right;\">\n",
       "      <th></th>\n",
       "      <th>MKT</th>\n",
       "      <th>INT</th>\n",
       "      <th>CRD</th>\n",
       "      <th>CUR</th>\n",
       "      <th>RF</th>\n",
       "    </tr>\n",
       "    <tr>\n",
       "      <th>Dates</th>\n",
       "      <th></th>\n",
       "      <th></th>\n",
       "      <th></th>\n",
       "      <th></th>\n",
       "      <th></th>\n",
       "    </tr>\n",
       "  </thead>\n",
       "  <tbody>\n",
       "    <tr>\n",
       "      <th>2005-01-31</th>\n",
       "      <td>-0.866</td>\n",
       "      <td>0.680</td>\n",
       "      <td>0.085720</td>\n",
       "      <td>3.55546</td>\n",
       "      <td>0.221</td>\n",
       "    </tr>\n",
       "    <tr>\n",
       "      <th>2005-02-28</th>\n",
       "      <td>2.787</td>\n",
       "      <td>-1.229</td>\n",
       "      <td>0.808200</td>\n",
       "      <td>-0.93088</td>\n",
       "      <td>0.198</td>\n",
       "    </tr>\n",
       "    <tr>\n",
       "      <th>2005-03-31</th>\n",
       "      <td>-1.174</td>\n",
       "      <td>-0.550</td>\n",
       "      <td>-1.584059</td>\n",
       "      <td>-1.57420</td>\n",
       "      <td>0.222</td>\n",
       "    </tr>\n",
       "    <tr>\n",
       "      <th>2005-04-29</th>\n",
       "      <td>-2.294</td>\n",
       "      <td>2.411</td>\n",
       "      <td>-0.845807</td>\n",
       "      <td>3.72775</td>\n",
       "      <td>0.207</td>\n",
       "    </tr>\n",
       "    <tr>\n",
       "      <th>2005-05-31</th>\n",
       "      <td>3.676</td>\n",
       "      <td>1.591</td>\n",
       "      <td>0.569927</td>\n",
       "      <td>-0.06376</td>\n",
       "      <td>0.226</td>\n",
       "    </tr>\n",
       "    <tr>\n",
       "      <th>...</th>\n",
       "      <td>...</td>\n",
       "      <td>...</td>\n",
       "      <td>...</td>\n",
       "      <td>...</td>\n",
       "      <td>...</td>\n",
       "    </tr>\n",
       "    <tr>\n",
       "      <th>2020-07-31</th>\n",
       "      <td>4.006</td>\n",
       "      <td>0.851</td>\n",
       "      <td>2.640098</td>\n",
       "      <td>-1.65198</td>\n",
       "      <td>0.045</td>\n",
       "    </tr>\n",
       "    <tr>\n",
       "      <th>2020-08-31</th>\n",
       "      <td>5.793</td>\n",
       "      <td>-0.835</td>\n",
       "      <td>-0.989691</td>\n",
       "      <td>-2.72867</td>\n",
       "      <td>0.043</td>\n",
       "    </tr>\n",
       "    <tr>\n",
       "      <th>2020-09-30</th>\n",
       "      <td>-2.701</td>\n",
       "      <td>0.266</td>\n",
       "      <td>-0.174976</td>\n",
       "      <td>2.51734</td>\n",
       "      <td>0.040</td>\n",
       "    </tr>\n",
       "    <tr>\n",
       "      <th>2020-10-30</th>\n",
       "      <td>-2.461</td>\n",
       "      <td>-1.300</td>\n",
       "      <td>1.303387</td>\n",
       "      <td>-0.17963</td>\n",
       "      <td>0.040</td>\n",
       "    </tr>\n",
       "    <tr>\n",
       "      <th>2020-11-30</th>\n",
       "      <td>11.462</td>\n",
       "      <td>0.297</td>\n",
       "      <td>0.746299</td>\n",
       "      <td>-2.80870</td>\n",
       "      <td>0.039</td>\n",
       "    </tr>\n",
       "  </tbody>\n",
       "</table>\n",
       "<p>191 rows × 5 columns</p>\n",
       "</div>"
      ],
      "text/plain": [
       "               MKT    INT       CRD      CUR     RF\n",
       "Dates                                              \n",
       "2005-01-31  -0.866  0.680  0.085720  3.55546  0.221\n",
       "2005-02-28   2.787 -1.229  0.808200 -0.93088  0.198\n",
       "2005-03-31  -1.174 -0.550 -1.584059 -1.57420  0.222\n",
       "2005-04-29  -2.294  2.411 -0.845807  3.72775  0.207\n",
       "2005-05-31   3.676  1.591  0.569927 -0.06376  0.226\n",
       "...            ...    ...       ...      ...    ...\n",
       "2020-07-31   4.006  0.851  2.640098 -1.65198  0.045\n",
       "2020-08-31   5.793 -0.835 -0.989691 -2.72867  0.043\n",
       "2020-09-30  -2.701  0.266 -0.174976  2.51734  0.040\n",
       "2020-10-30  -2.461 -1.300  1.303387 -0.17963  0.040\n",
       "2020-11-30  11.462  0.297  0.746299 -2.80870  0.039\n",
       "\n",
       "[191 rows x 5 columns]"
      ]
     },
     "execution_count": 131,
     "metadata": {},
     "output_type": "execute_result"
    }
   ],
   "source": [
    "monthly_data"
   ]
  },
  {
   "cell_type": "code",
   "execution_count": null,
   "metadata": {},
   "outputs": [],
   "source": []
  }
 ],
 "metadata": {
  "kernelspec": {
   "display_name": "Python 3",
   "language": "python",
   "name": "python3"
  },
  "language_info": {
   "codemirror_mode": {
    "name": "ipython",
    "version": 3
   },
   "file_extension": ".py",
   "mimetype": "text/x-python",
   "name": "python",
   "nbconvert_exporter": "python",
   "pygments_lexer": "ipython3",
   "version": "3.7.4"
  }
 },
 "nbformat": 4,
 "nbformat_minor": 4
}
