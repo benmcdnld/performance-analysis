{
 "cells": [
  {
   "cell_type": "code",
   "execution_count": 53,
   "metadata": {},
   "outputs": [],
   "source": [
    "import numpy as np\n",
    "import pandas as pd\n",
    "import matplotlib.pyplot as plt\n",
    "import seaborn as sns\n",
    "from sklearn.linear_model import LinearRegression\n",
    "import DatastreamDSWS as dsws\n",
    "ds=dsws.Datastream(username='ben.mcdonald@omg.ca',password='Uuddlrlrba55')"
   ]
  },
  {
   "cell_type": "code",
   "execution_count": 42,
   "metadata": {},
   "outputs": [],
   "source": [
    "daily_data = ds.get_data(tickers='MSACWFL(MSRI), MLUS710(RI), MLCORML(RI), MLHMACL(RI)',\n",
    "                         fields=['PCH#(X,-1D)'], start='2002-01-01', end='0D', freq='D')\n",
    "daily_data.index = pd.to_datetime(daily_data.index)\n",
    "daily_data = daily_data.rolling(window=5).sum().dropna()"
   ]
  },
  {
   "cell_type": "code",
   "execution_count": 43,
   "metadata": {},
   "outputs": [],
   "source": [
    "monthly_data = ds.get_data(tickers='MSACWFL(MSRI), MLUS710(RI), MLCORML(RI), MLHMACL(RI), MSERCAD, MLCR1CL(RI)',\n",
    "                           fields=['PCH#(X,-1M)'], start='2002-01-31', end='0D', freq='M')\n",
    "monthly_data.index = pd.to_datetime(monthly_data.index)"
   ]
  },
  {
   "cell_type": "code",
   "execution_count": 44,
   "metadata": {},
   "outputs": [],
   "source": [
    "#Saves daily data columns into series\n",
    "MKT = daily_data.iloc[:,0]\n",
    "INT = daily_data.iloc[:,1]\n",
    "IG = daily_data.iloc[:,2]\n",
    "HY = daily_data.iloc[:,3]"
   ]
  },
  {
   "cell_type": "code",
   "execution_count": 45,
   "metadata": {},
   "outputs": [],
   "source": [
    "#Finds last trading day in each month\n",
    "month_end_dates = []\n",
    "for d in monthly_data.index:\n",
    "    \n",
    "    while d not in daily_data.index:\n",
    "        d - pd.Timedelta(days=1)\n",
    "        \n",
    "    month_end_dates.append(d)"
   ]
  },
  {
   "cell_type": "code",
   "execution_count": 46,
   "metadata": {},
   "outputs": [],
   "source": [
    "#Sets parameters for weighted regression including trailing period (3 years) and half life (1 year of trading days)\n",
    "wls = LinearRegression()\n",
    "rolling_months = 36\n",
    "halflife = 260\n",
    "ig_betas = []\n",
    "hy_betas = []\n",
    "\n",
    "for i in range(len(month_end_dates)-rolling_months):  #For all monthly 3 year windows in time period\n",
    "    \n",
    "    start_date = month_end_dates[i]                                  #Sets the start date\n",
    "    end_date = month_end_dates[i+rolling_months-1]                   #Sets the end date\n",
    "    rolling_days = daily_data.loc[start_date : end_date].shape[0]    #Sets the number of days in the \n",
    "    \n",
    "    #Finds the MKT and INT beta in Investment Grade returns\n",
    "    ig_beta = wls.fit(pd.concat([MKT, INT], axis=1).loc[start_date : end_date],\n",
    "                      IG.loc[start_date : end_date],\n",
    "                      sample_weight = [(0.5 ** (1 / halflife)) ** i for i in range(rolling_days)][::-1]).coef_\n",
    "    \n",
    "    #Finds the MKT and INT beta in High Yield returns\n",
    "    hy_beta = wls.fit(pd.concat([MKT, INT], axis=1).loc[start_date : end_date],\n",
    "                      HY.loc[start_date : end_date],\n",
    "                      sample_weight = [(0.5 ** (1 / halflife)) ** i for i in range(rolling_days)][::-1]).coef_\n",
    "    \n",
    "    ig_betas.append(ig_beta)  #Appends IG betas to list\n",
    "    hy_betas.append(hy_beta)  #Appends HY betas to list\n",
    "\n",
    "#Turns lists into arrays for flexibility\n",
    "ig_betas = np.array(ig_betas)\n",
    "hy_betas = np.array(hy_betas)"
   ]
  },
  {
   "cell_type": "code",
   "execution_count": 47,
   "metadata": {},
   "outputs": [],
   "source": [
    "#Saves monthly data columns into series\n",
    "monthly_data = monthly_data.iloc[rolling_months:]\n",
    "MKT = monthly_data.iloc[:,0]\n",
    "INT = monthly_data.iloc[:,1]\n",
    "IG = monthly_data.iloc[:,2]\n",
    "HY = monthly_data.iloc[:,3]\n",
    "CUR = monthly_data.iloc[:,4]\n",
    "RF = monthly_data.iloc[:,5]"
   ]
  },
  {
   "cell_type": "code",
   "execution_count": 48,
   "metadata": {},
   "outputs": [],
   "source": [
    "#Creates a list of Investment Grade's MKT betas and INT betas\n",
    "ig_mkt_crd_betas = [b[0] for b in ig_betas]\n",
    "ig_int_crd_betas = [b[1] for b in ig_betas]\n",
    "\n",
    "#Creates a list of High Yield's MKT betas and INT betas\n",
    "hy_mkt_crd_betas = [b[0] for b in hy_betas]\n",
    "hy_int_crd_betas = [b[1] for b in hy_betas]"
   ]
  },
  {
   "cell_type": "code",
   "execution_count": 49,
   "metadata": {},
   "outputs": [],
   "source": [
    "#Removes MKT and INT beta returns from IG and HY returns \n",
    "IG = IG - MKT * ig_mkt_crd_betas - INT * ig_int_crd_betas\n",
    "HY = HY - MKT * hy_mkt_crd_betas - INT * hy_int_crd_betas\n",
    "\n",
    "#Takes average\n",
    "CRD = 0.5*IG + 0.5*HY"
   ]
  },
  {
   "cell_type": "code",
   "execution_count": 50,
   "metadata": {},
   "outputs": [],
   "source": [
    "monthly_data = pd.concat([MKT, INT, CRD, CUR, RF], axis=1)\n",
    "monthly_data.columns = 'MKT INT CRD CUR RF'.split()"
   ]
  },
  {
   "cell_type": "code",
   "execution_count": 51,
   "metadata": {},
   "outputs": [
    {
     "data": {
      "text/html": [
       "<div>\n",
       "<style scoped>\n",
       "    .dataframe tbody tr th:only-of-type {\n",
       "        vertical-align: middle;\n",
       "    }\n",
       "\n",
       "    .dataframe tbody tr th {\n",
       "        vertical-align: top;\n",
       "    }\n",
       "\n",
       "    .dataframe thead th {\n",
       "        text-align: right;\n",
       "    }\n",
       "</style>\n",
       "<table border=\"1\" class=\"dataframe\">\n",
       "  <thead>\n",
       "    <tr style=\"text-align: right;\">\n",
       "      <th></th>\n",
       "      <th>MKT</th>\n",
       "      <th>INT</th>\n",
       "      <th>CRD</th>\n",
       "      <th>CUR</th>\n",
       "      <th>RF</th>\n",
       "    </tr>\n",
       "  </thead>\n",
       "  <tbody>\n",
       "    <tr>\n",
       "      <th>count</th>\n",
       "      <td>191.000000</td>\n",
       "      <td>191.000000</td>\n",
       "      <td>191.000000</td>\n",
       "      <td>191.000000</td>\n",
       "      <td>191.000000</td>\n",
       "    </tr>\n",
       "    <tr>\n",
       "      <th>mean</th>\n",
       "      <td>0.734356</td>\n",
       "      <td>0.425304</td>\n",
       "      <td>0.136148</td>\n",
       "      <td>0.078815</td>\n",
       "      <td>0.147775</td>\n",
       "    </tr>\n",
       "    <tr>\n",
       "      <th>std</th>\n",
       "      <td>4.047326</td>\n",
       "      <td>1.714062</td>\n",
       "      <td>1.533485</td>\n",
       "      <td>2.772304</td>\n",
       "      <td>0.104911</td>\n",
       "    </tr>\n",
       "    <tr>\n",
       "      <th>min</th>\n",
       "      <td>-16.918000</td>\n",
       "      <td>-4.116000</td>\n",
       "      <td>-8.652566</td>\n",
       "      <td>-7.768740</td>\n",
       "      <td>0.022000</td>\n",
       "    </tr>\n",
       "    <tr>\n",
       "      <th>25%</th>\n",
       "      <td>-1.138000</td>\n",
       "      <td>-0.576000</td>\n",
       "      <td>-0.304993</td>\n",
       "      <td>-1.595215</td>\n",
       "      <td>0.079500</td>\n",
       "    </tr>\n",
       "    <tr>\n",
       "      <th>50%</th>\n",
       "      <td>1.395000</td>\n",
       "      <td>0.206000</td>\n",
       "      <td>0.185930</td>\n",
       "      <td>0.016040</td>\n",
       "      <td>0.102000</td>\n",
       "    </tr>\n",
       "    <tr>\n",
       "      <th>75%</th>\n",
       "      <td>2.900000</td>\n",
       "      <td>1.382500</td>\n",
       "      <td>0.574773</td>\n",
       "      <td>1.587050</td>\n",
       "      <td>0.200000</td>\n",
       "    </tr>\n",
       "    <tr>\n",
       "      <th>max</th>\n",
       "      <td>11.462000</td>\n",
       "      <td>7.995000</td>\n",
       "      <td>6.860947</td>\n",
       "      <td>14.357590</td>\n",
       "      <td>0.453000</td>\n",
       "    </tr>\n",
       "  </tbody>\n",
       "</table>\n",
       "</div>"
      ],
      "text/plain": [
       "              MKT         INT         CRD         CUR          RF\n",
       "count  191.000000  191.000000  191.000000  191.000000  191.000000\n",
       "mean     0.734356    0.425304    0.136148    0.078815    0.147775\n",
       "std      4.047326    1.714062    1.533485    2.772304    0.104911\n",
       "min    -16.918000   -4.116000   -8.652566   -7.768740    0.022000\n",
       "25%     -1.138000   -0.576000   -0.304993   -1.595215    0.079500\n",
       "50%      1.395000    0.206000    0.185930    0.016040    0.102000\n",
       "75%      2.900000    1.382500    0.574773    1.587050    0.200000\n",
       "max     11.462000    7.995000    6.860947   14.357590    0.453000"
      ]
     },
     "execution_count": 51,
     "metadata": {},
     "output_type": "execute_result"
    }
   ],
   "source": [
    "monthly_data.describe()"
   ]
  },
  {
   "cell_type": "code",
   "execution_count": 52,
   "metadata": {},
   "outputs": [
    {
     "data": {
      "text/html": [
       "<div>\n",
       "<style scoped>\n",
       "    .dataframe tbody tr th:only-of-type {\n",
       "        vertical-align: middle;\n",
       "    }\n",
       "\n",
       "    .dataframe tbody tr th {\n",
       "        vertical-align: top;\n",
       "    }\n",
       "\n",
       "    .dataframe thead th {\n",
       "        text-align: right;\n",
       "    }\n",
       "</style>\n",
       "<table border=\"1\" class=\"dataframe\">\n",
       "  <thead>\n",
       "    <tr style=\"text-align: right;\">\n",
       "      <th></th>\n",
       "      <th>MKT</th>\n",
       "      <th>INT</th>\n",
       "      <th>CRD</th>\n",
       "      <th>CUR</th>\n",
       "      <th>RF</th>\n",
       "    </tr>\n",
       "  </thead>\n",
       "  <tbody>\n",
       "    <tr>\n",
       "      <th>MKT</th>\n",
       "      <td>1.000000</td>\n",
       "      <td>-0.333773</td>\n",
       "      <td>0.383799</td>\n",
       "      <td>-0.640662</td>\n",
       "      <td>-0.171121</td>\n",
       "    </tr>\n",
       "    <tr>\n",
       "      <th>INT</th>\n",
       "      <td>-0.333773</td>\n",
       "      <td>1.000000</td>\n",
       "      <td>-0.225191</td>\n",
       "      <td>0.233498</td>\n",
       "      <td>0.111991</td>\n",
       "    </tr>\n",
       "    <tr>\n",
       "      <th>CRD</th>\n",
       "      <td>0.383799</td>\n",
       "      <td>-0.225191</td>\n",
       "      <td>1.000000</td>\n",
       "      <td>-0.389614</td>\n",
       "      <td>-0.196524</td>\n",
       "    </tr>\n",
       "    <tr>\n",
       "      <th>CUR</th>\n",
       "      <td>-0.640662</td>\n",
       "      <td>0.233498</td>\n",
       "      <td>-0.389614</td>\n",
       "      <td>1.000000</td>\n",
       "      <td>0.052216</td>\n",
       "    </tr>\n",
       "    <tr>\n",
       "      <th>RF</th>\n",
       "      <td>-0.171121</td>\n",
       "      <td>0.111991</td>\n",
       "      <td>-0.196524</td>\n",
       "      <td>0.052216</td>\n",
       "      <td>1.000000</td>\n",
       "    </tr>\n",
       "  </tbody>\n",
       "</table>\n",
       "</div>"
      ],
      "text/plain": [
       "          MKT       INT       CRD       CUR        RF\n",
       "MKT  1.000000 -0.333773  0.383799 -0.640662 -0.171121\n",
       "INT -0.333773  1.000000 -0.225191  0.233498  0.111991\n",
       "CRD  0.383799 -0.225191  1.000000 -0.389614 -0.196524\n",
       "CUR -0.640662  0.233498 -0.389614  1.000000  0.052216\n",
       "RF  -0.171121  0.111991 -0.196524  0.052216  1.000000"
      ]
     },
     "execution_count": 52,
     "metadata": {},
     "output_type": "execute_result"
    }
   ],
   "source": [
    "monthly_data.corr()"
   ]
  },
  {
   "cell_type": "code",
   "execution_count": null,
   "metadata": {},
   "outputs": [],
   "source": []
  }
 ],
 "metadata": {
  "kernelspec": {
   "display_name": "Python 3",
   "language": "python",
   "name": "python3"
  },
  "language_info": {
   "codemirror_mode": {
    "name": "ipython",
    "version": 3
   },
   "file_extension": ".py",
   "mimetype": "text/x-python",
   "name": "python",
   "nbconvert_exporter": "python",
   "pygments_lexer": "ipython3",
   "version": "3.7.4"
  }
 },
 "nbformat": 4,
 "nbformat_minor": 4
}
